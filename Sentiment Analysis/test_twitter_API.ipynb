{
 "cells": [
  {
   "cell_type": "code",
   "execution_count": 9,
   "id": "governmental-scottish",
   "metadata": {},
   "outputs": [
    {
     "name": "stdout",
     "output_type": "stream",
     "text": [
      "The only two things I looked at when I researched whether or not I should Yolo into Đogecoin and join the community… https://t.co/BpTX9kgYOK\n",
      "RT @Hugo_Finance: Who is ready for $Hugo #NFTs? 🐥👀  #bsc #doge #HugoFinance https://t.co/Rk9yR86ZZh\n",
      "RT @Dogecoin_Aus: Be proud and RETWEET \n",
      "#dogecoin #DogecoinToTheMoon \n",
      "#dogearmy #doge https://t.co/I084Dt6D6M\n",
      "RT @DogecoinRumors: RUMOR HAS IT THAT AMAZON WILL ACCEPT DOGE SOON!!!\n",
      "#dogecoin #doge\n",
      "RT @NeblioTeam: A warm welcome to the #Neblio ecosystem @antiquedoge and their super cool #DOGE themed #NFTMarketplace \n",
      "\n",
      "#DOGEFT is powered…\n"
     ]
    }
   ],
   "source": [
    "import os\n",
    "import tweepy as tw\n",
    "import pandas as pd\n",
    "\n",
    "consumer_key= 'XtF9wgj3hb3D9zc8FKGkKnTQT'\n",
    "consumer_secret= 'RkQ0aBt6by1bru0tOcZSfYBoqul0k6e4BhKa1uDrgM2cvi16aH'\n",
    "access_token= '1311507395311366144-IXYQbeu27EjzvT5ZmOtlcytWLyU31z'\n",
    "access_token_secret= 'mZMR4o119mojFLUXJyeQLj3br62AsIeIFXaW3x60U28OI'\n",
    "\n",
    "auth = tw.OAuthHandler(consumer_key, consumer_secret)\n",
    "auth.set_access_token(access_token, access_token_secret)\n",
    "api = tw.API(auth, wait_on_rate_limit=True)\n",
    "\n",
    "search_words = \"#DOGE\"\n",
    "date_since = \"2020-06-10\"\n",
    "\n",
    "# Collect tweets\n",
    "tweets = tw.Cursor(api.search,\n",
    "              q=search_words,\n",
    "              lang=\"en\",\n",
    "              since=date_since).items(5)\n",
    "\n",
    "# Iterate and print tweets\n",
    "for tweet in tweets:\n",
    "    print(tweet.text)"
   ]
  },
  {
   "cell_type": "code",
   "execution_count": 6,
   "id": "chubby-double",
   "metadata": {},
   "outputs": [],
   "source": [
    "userID = 'CryptosR_Us'\n",
    "tweets = api.user_timeline(screen_name=userID, \n",
    "                           # 200 is the maximum allowed count\n",
    "                           count=10,\n",
    "                           include_rts = False,\n",
    "                           # Necessary to keep full_text \n",
    "                           # otherwise only the first 140 words are extracted\n",
    "                           tweet_mode = 'extended'\n",
    "                           )"
   ]
  },
  {
   "cell_type": "code",
   "execution_count": 7,
   "id": "automotive-roller",
   "metadata": {},
   "outputs": [
    {
     "name": "stdout",
     "output_type": "stream",
     "text": [
      "ID: 1403047215053127681\n",
      "2021-06-10 17:51:38\n",
      "https://t.co/Ab3sQP3JcC\n",
      "\n",
      "\n",
      "ID: 1403025495122382857\n",
      "2021-06-10 16:25:19\n",
      "INDIA MAY BE READY TO GO ALL IN WITH BITCOIN https://t.co/TZ89Lk9IBV\n",
      "\n",
      "\n",
      "ID: 1402992987097862144\n",
      "2021-06-10 14:16:09\n",
      "https://t.co/8IrBw4DHcn\n",
      "\n",
      "\n",
      "ID: 1402802252134469635\n",
      "2021-06-10 01:38:14\n",
      "HIDDEN AGENDA BEHIND BITCOIN FUD https://t.co/ZYdJfqOO5D\n",
      "\n",
      "\n",
      "ID: 1402792740027613185\n",
      "2021-06-10 01:00:26\n",
      "Why Doesn't Elizabeth Warren talk about shutting down Gold mining since it consumes even more energy than Bitcoin mining? What about shutting down the blood Diamond industry while at it? Hum.... https://t.co/TukuFL48L2\n",
      "\n",
      "\n",
      "ID: 1402707587745914885\n",
      "2021-06-09 19:22:04\n",
      "https://t.co/o6lMZN1QBe has been revamped.  New articles coming daily. Check out the latest one about El Salvador and learn more about your favorite altcoins such as Vechain, Cardano, Polkadot and more!\n",
      "\n",
      "\n",
      "ID: 1402665055540301827\n",
      "2021-06-09 16:33:04\n",
      "BITCOIN IS NOW LEGAL TENDER IN EL SALVADOR https://t.co/JMCdW9TBP2\n",
      "\n",
      "\n",
      "ID: 1402633626773303296\n",
      "2021-06-09 14:28:10\n",
      "The first of many to come https://t.co/zZ2T0IvB5l\n",
      "\n",
      "\n",
      "ID: 1402633458615296006\n",
      "2021-06-09 14:27:30\n",
      "@markd43 They just stopped it at the exchange the crooks were trying to cash out at, that's it.\n",
      "\n",
      "\n",
      "ID: 1402437251561308163\n",
      "2021-06-09 01:27:51\n",
      "BITCOIN HOLDERS GET READY FOR AMAZON JUMPING INTO DEFI https://t.co/QTFebxNKWz\n",
      "\n",
      "\n"
     ]
    }
   ],
   "source": [
    "for info in tweets[:10]:\n",
    "     print(\"ID: {}\".format(info.id))\n",
    "     print(info.created_at)\n",
    "     print(info.full_text)\n",
    "     print(\"\\n\")"
   ]
  },
  {
   "cell_type": "code",
   "execution_count": 5,
   "id": "quantitative-cyprus",
   "metadata": {},
   "outputs": [],
   "source": [
    "# gets full list of accounts I follow\n",
    "#friend_list = []\n",
    "#for friend in tw.Cursor(api.friends).items():\n",
    "    # Process the friend here\n",
    "    #print(friend.screen_name)\n",
    "#    friend_list.append(friend.screen_name)\n",
    "    \n",
    "#print(friend_list)"
   ]
  },
  {
   "cell_type": "code",
   "execution_count": null,
   "id": "worse-horror",
   "metadata": {},
   "outputs": [],
   "source": []
  }
 ],
 "metadata": {
  "kernelspec": {
   "display_name": "Python 3",
   "language": "python",
   "name": "python3"
  },
  "language_info": {
   "codemirror_mode": {
    "name": "ipython",
    "version": 3
   },
   "file_extension": ".py",
   "mimetype": "text/x-python",
   "name": "python",
   "nbconvert_exporter": "python",
   "pygments_lexer": "ipython3",
   "version": "3.7.4"
  }
 },
 "nbformat": 4,
 "nbformat_minor": 5
}
