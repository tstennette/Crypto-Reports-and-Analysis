{
 "cells": [
  {
   "cell_type": "code",
   "execution_count": 2,
   "id": "suited-electricity",
   "metadata": {},
   "outputs": [
    {
     "name": "stdout",
     "output_type": "stream",
     "text": [
      "RT @kathirrrr2: Me #ActorKathiravan InShootingSpot #SceneNumber62 Dialog Preparation #AdamZamar \n",
      "#ArrestRssBjpLeaders #BTS8thAnniversary #e…\n",
      "RT @XRPcryptowolf: Stop selling #XRP\n",
      "RT @RichardHeartWin: Your coin, vs the coin she told you not to worry about.\n",
      "#Bitcoin #Ethereum #XRP #BitcoinCash #Dogecoin #doge $doge #AD…\n",
      "#Ripple is down 11.2% for the day\n",
      "#XRP is now trading at $0.8617505 #USD (or 2,570 #Satoshi)\n",
      "For the week, $XRP is… https://t.co/C8nbUzZOjI\n",
      "RT @RichardHeartWin: Your coin, vs the coin she told you not to worry about.\n",
      "#Bitcoin #Ethereum #XRP #BitcoinCash #Dogecoin #doge $doge #AD…\n"
     ]
    }
   ],
   "source": [
    "import os\n",
    "import tweepy as tw\n",
    "import pandas as pd\n",
    "\n",
    "consumer_key= 'ENTER API KEY HERE'\n",
    "consumer_secret= 'ENTER SECRET KEY HERE'\n",
    "access_token= 'ENTER ACCESS TOKEN HERE'\n",
    "access_token_secret= 'ENTER SECRET ACCESS TOKEN HERE'\n",
    "\n",
    "auth = tw.OAuthHandler(consumer_key, consumer_secret)\n",
    "auth.set_access_token(access_token, access_token_secret)\n",
    "api = tw.API(auth, wait_on_rate_limit=True)\n",
    "\n",
    "search_words = \"#XRP\"\n",
    "date_since = \"2020-06-06\"\n",
    "\n",
    "# Collect tweets\n",
    "tweets = tw.Cursor(api.search,\n",
    "              q=search_words,\n",
    "              lang=\"en\",\n",
    "              since=date_since).items(5)\n",
    "\n",
    "# Iterate and print tweets\n",
    "for tweet in tweets:\n",
    "    print(tweet.text)"
   ]
  },
  {
   "cell_type": "code",
   "execution_count": 7,
   "id": "danish-cassette",
   "metadata": {},
   "outputs": [],
   "source": [
    "userID = 'elonmusk'\n",
    "tweets = api.user_timeline(screen_name=userID, \n",
    "                           # 200 is the maximum allowed count\n",
    "                           count=10,\n",
    "                           include_rts = False,\n",
    "                           # Necessary to keep full_text \n",
    "                           # otherwise only the first 140 words are extracted\n",
    "                           tweet_mode = 'extended'\n",
    "                           )"
   ]
  },
  {
   "cell_type": "code",
   "execution_count": 4,
   "id": "active-beach",
   "metadata": {},
   "outputs": [
    {
     "name": "stdout",
     "output_type": "stream",
     "text": [
      "ID: 1402025921360674819\n",
      "2021-06-07 22:13:22\n",
      "@heydave7 Well said, Dave!\n",
      "\n",
      "\n",
      "ID: 1402022177667440641\n",
      "2021-06-07 21:58:30\n",
      "@CJ_NFA @WholeMarsBlog @WR4NYGov @Teslarati @stevenmarkryan @28delayslater @garyblack00 @GerberKawasaki @JosephVVallace @SawyerMerritt 🤣🤣\n",
      "\n",
      "\n",
      "ID: 1402004955591069698\n",
      "2021-06-07 20:50:04\n",
      "@Teslaconomics The long-term strength of Tesla will be manufacturing technology\n",
      "\n",
      "\n",
      "ID: 1401751762034479104\n",
      "2021-06-07 04:03:58\n",
      "@MattWallace888 Wow, thanks!\n",
      "\n",
      "\n",
      "ID: 1401748754974248961\n",
      "2021-06-07 03:52:01\n",
      "@LloydOstertagg @SpaceX Thanks Lloyd!\n",
      "\n",
      "\n",
      "ID: 1401719876515946498\n",
      "2021-06-07 01:57:15\n",
      "@OwenSparks_ 💕\n",
      "\n",
      "\n",
      "ID: 1401663113657827328\n",
      "2021-06-06 22:11:42\n",
      "@itsALLrisky 🤣🤣\n",
      "\n",
      "\n",
      "ID: 1401662959923994625\n",
      "2021-06-06 22:11:05\n",
      "@BTCTN A new space race has begun!\n",
      "\n",
      "\n",
      "ID: 1401642435755790341\n",
      "2021-06-06 20:49:32\n",
      "@ModelYendofICE At the annual shareholder meeting! Probably late July / early August.\n",
      "\n",
      "\n",
      "ID: 1401642134583791624\n",
      "2021-06-06 20:48:20\n",
      "0 to 60mph in under 2 secs. Quickest production car ever made of any kind. Has to be felt to be believed.\n",
      "\n",
      "\n"
     ]
    }
   ],
   "source": [
    "for info in tweets[:10]:\n",
    "     print(\"ID: {}\".format(info.id))\n",
    "     print(info.created_at)\n",
    "     print(info.full_text)\n",
    "     print(\"\\n\")"
   ]
  },
  {
   "cell_type": "code",
   "execution_count": null,
   "id": "searching-candidate",
   "metadata": {},
   "outputs": [],
   "source": []
  }
 ],
 "metadata": {
  "kernelspec": {
   "display_name": "Python 3",
   "language": "python",
   "name": "python3"
  },
  "language_info": {
   "codemirror_mode": {
    "name": "ipython",
    "version": 3
   },
   "file_extension": ".py",
   "mimetype": "text/x-python",
   "name": "python",
   "nbconvert_exporter": "python",
   "pygments_lexer": "ipython3",
   "version": "3.7.4"
  }
 },
 "nbformat": 4,
 "nbformat_minor": 5
}
