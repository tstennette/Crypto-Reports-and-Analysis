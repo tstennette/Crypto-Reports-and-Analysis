{
 "cells": [
  {
   "cell_type": "code",
   "execution_count": 8,
   "id": "enabling-irish",
   "metadata": {},
   "outputs": [
    {
     "name": "stdout",
     "output_type": "stream",
     "text": [
      "Clip from A soft genesis No. 12 (F06092021)\n",
      "performance for camera\n",
      "edition of 1 + 2AP\n",
      "00:18:13\n",
      "2021\n",
      "•… https://t.co/8YFSfIkIqO\n",
      "Today's guest on Cardano NFT Update show - @YggdrasillClans \n",
      "\n",
      "Tune in at 12 PM PST / 19:00 UTC on… https://t.co/8KvEjdIH8x\n",
      "🕹🕹 AMA with @2Crazylive NFT platform! 📈\n",
      "\n",
      "We're on a roll! Our next Text AMA will be on 14.06.21 - 12:00 CET\n",
      "\n",
      "Reward… https://t.co/93v2KTd5Lk\n",
      "(2/3) The snapshot has been completed on June 10, 2021, at 12:00 (UTC) 🎉🎉🎉\n",
      "\n",
      "All qualified addresses on the #TRON… https://t.co/yIeS5dz20V\n",
      "NFT Update x The BoneYard Art Showcase (Sunday, June 13, 2021 12:00 AM UTC)\n",
      "\n",
      "https://t.co/NWfMFHizZm https://t.co/CCfqpK398b\n"
     ]
    }
   ],
   "source": [
    "import os\n",
    "import tweepy as tw\n",
    "import pandas as pd\n",
    "\n",
    "#consumer_key= 'ENTER API KEY'\n",
    "#consumer_secret= 'ENTER SECRET KEY'\n",
    "#access_token= 'ENTER ACCESS TOKEN'\n",
    "#access_token_secret= 'ENTER SECRET TOKEN'\n",
    "\n",
    "consumer_key= 'XtF9wgj3hb3D9zc8FKGkKnTQT'\n",
    "consumer_secret= 'RkQ0aBt6by1bru0tOcZSfYBoqul0k6e4BhKa1uDrgM2cvi16aH'\n",
    "access_token= '1311507395311366144-IXYQbeu27EjzvT5ZmOtlcytWLyU31z'\n",
    "access_token_secret= 'mZMR4o119mojFLUXJyeQLj3br62AsIeIFXaW3x60U28OI'\n",
    "\n",
    "auth = tw.OAuthHandler(consumer_key, consumer_secret)\n",
    "auth.set_access_token(access_token, access_token_secret)\n",
    "api = tw.API(auth, wait_on_rate_limit=True)\n",
    "\n",
    "search_words = \"NFT -filter:retweets\"\n",
    "date_since = \"2020-06-10: 12:00:00\"\n",
    "\n",
    "# Collect tweets\n",
    "tweets = tw.Cursor(api.search,\n",
    "              q=search_words,\n",
    "              lang=\"en\",\n",
    "              count = 20,\n",
    "              #tweet_mode = 'extended',\n",
    "              since=date_since).items(5)\n",
    "\n",
    "# Iterate and print tweets\n",
    "for tweet in tweets:\n",
    "    print(tweet.text)"
   ]
  },
  {
   "cell_type": "code",
   "execution_count": 6,
   "id": "compatible-possible",
   "metadata": {},
   "outputs": [],
   "source": [
    "userID = 'CryptosR_Us'\n",
    "tweets = api.user_timeline(screen_name=userID, \n",
    "                           # 200 is the maximum allowed count\n",
    "                           count=10,\n",
    "                           include_rts = False,\n",
    "                           # Necessary to keep full_text \n",
    "                           # otherwise only the first 140 words are extracted\n",
    "                           tweet_mode = 'extended'\n",
    "                           )"
   ]
  },
  {
   "cell_type": "code",
   "execution_count": 7,
   "id": "optional-pontiac",
   "metadata": {},
   "outputs": [
    {
     "name": "stdout",
     "output_type": "stream",
     "text": [
      "ID: 1403047215053127681\n",
      "2021-06-10 17:51:38\n",
      "https://t.co/Ab3sQP3JcC\n",
      "\n",
      "\n",
      "ID: 1403025495122382857\n",
      "2021-06-10 16:25:19\n",
      "INDIA MAY BE READY TO GO ALL IN WITH BITCOIN https://t.co/TZ89Lk9IBV\n",
      "\n",
      "\n",
      "ID: 1402992987097862144\n",
      "2021-06-10 14:16:09\n",
      "https://t.co/8IrBw4DHcn\n",
      "\n",
      "\n",
      "ID: 1402802252134469635\n",
      "2021-06-10 01:38:14\n",
      "HIDDEN AGENDA BEHIND BITCOIN FUD https://t.co/ZYdJfqOO5D\n",
      "\n",
      "\n",
      "ID: 1402792740027613185\n",
      "2021-06-10 01:00:26\n",
      "Why Doesn't Elizabeth Warren talk about shutting down Gold mining since it consumes even more energy than Bitcoin mining? What about shutting down the blood Diamond industry while at it? Hum.... https://t.co/TukuFL48L2\n",
      "\n",
      "\n",
      "ID: 1402707587745914885\n",
      "2021-06-09 19:22:04\n",
      "https://t.co/o6lMZN1QBe has been revamped.  New articles coming daily. Check out the latest one about El Salvador and learn more about your favorite altcoins such as Vechain, Cardano, Polkadot and more!\n",
      "\n",
      "\n",
      "ID: 1402665055540301827\n",
      "2021-06-09 16:33:04\n",
      "BITCOIN IS NOW LEGAL TENDER IN EL SALVADOR https://t.co/JMCdW9TBP2\n",
      "\n",
      "\n",
      "ID: 1402633626773303296\n",
      "2021-06-09 14:28:10\n",
      "The first of many to come https://t.co/zZ2T0IvB5l\n",
      "\n",
      "\n",
      "ID: 1402633458615296006\n",
      "2021-06-09 14:27:30\n",
      "@markd43 They just stopped it at the exchange the crooks were trying to cash out at, that's it.\n",
      "\n",
      "\n",
      "ID: 1402437251561308163\n",
      "2021-06-09 01:27:51\n",
      "BITCOIN HOLDERS GET READY FOR AMAZON JUMPING INTO DEFI https://t.co/QTFebxNKWz\n",
      "\n",
      "\n"
     ]
    }
   ],
   "source": [
    "for info in tweets[:10]:\n",
    "     print(\"ID: {}\".format(info.id))\n",
    "     print(info.created_at)\n",
    "     print(info.full_text)\n",
    "     print(\"\\n\")"
   ]
  },
  {
   "cell_type": "code",
   "execution_count": 5,
   "id": "wooden-satellite",
   "metadata": {},
   "outputs": [],
   "source": [
    "# gets full list of accounts I follow\n",
    "#friend_list = []\n",
    "#for friend in tw.Cursor(api.friends).items():\n",
    "    # Process the friend here\n",
    "    #print(friend.screen_name)\n",
    "#    friend_list.append(friend.screen_name)\n",
    "    \n",
    "#print(friend_list)"
   ]
  },
  {
   "cell_type": "code",
   "execution_count": null,
   "id": "caroline-filing",
   "metadata": {},
   "outputs": [],
   "source": []
  }
 ],
 "metadata": {
  "kernelspec": {
   "display_name": "Python 3",
   "language": "python",
   "name": "python3"
  },
  "language_info": {
   "codemirror_mode": {
    "name": "ipython",
    "version": 3
   },
   "file_extension": ".py",
   "mimetype": "text/x-python",
   "name": "python",
   "nbconvert_exporter": "python",
   "pygments_lexer": "ipython3",
   "version": "3.7.4"
  }
 },
 "nbformat": 4,
 "nbformat_minor": 5
}
