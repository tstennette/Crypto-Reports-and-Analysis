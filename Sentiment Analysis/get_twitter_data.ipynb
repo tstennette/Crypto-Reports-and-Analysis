{
 "cells": [
  {
   "cell_type": "markdown",
   "id": "exposed-candy",
   "metadata": {},
   "source": [
    "The purpose of this notebook will be to show how to get Twitter data using tweepy."
   ]
  },
  {
   "cell_type": "code",
   "execution_count": 16,
   "id": "ready-parker",
   "metadata": {},
   "outputs": [],
   "source": [
    "import os\n",
    "import tweepy as tw\n",
    "import pandas as pd\n",
    "import numpy as np\n",
    "\n",
    "consumer_key= 'XtF9wgj3hb3D9zc8FKGkKnTQT'\n",
    "consumer_secret= 'RkQ0aBt6by1bru0tOcZSfYBoqul0k6e4BhKa1uDrgM2cvi16aH'\n",
    "access_token= '1311507395311366144-IXYQbeu27EjzvT5ZmOtlcytWLyU31z'\n",
    "access_token_secret= 'mZMR4o119mojFLUXJyeQLj3br62AsIeIFXaW3x60U28OI'\n",
    "\n",
    "consumer_key= 'ENTER API KEY'\n",
    "consumer_secret= 'ENTER SECRET KEY'\n",
    "access_token= 'ENTER ACCESS TOKEN'\n",
    "access_token_secret= 'ENTER SECRET TOKEN '\n",
    "\n",
    "auth = tw.OAuthHandler(consumer_key, consumer_secret)\n",
    "auth.set_access_token(access_token, access_token_secret)\n",
    "api = tw.API(auth, wait_on_rate_limit=True)\n"
   ]
  },
  {
   "cell_type": "code",
   "execution_count": 17,
   "id": "contemporary-artist",
   "metadata": {},
   "outputs": [],
   "source": [
    "def update_followers(ap):\n",
    "    \n",
    "    # gets full list of accounts I follow\n",
    "    friend_list = []\n",
    "    for friend in tw.Cursor(ap.friends).items():\n",
    "        #print(friend.screen_name)\n",
    "        friend_list.append(friend.screen_name)\n",
    "    \n",
    "    df = pd.DataFrame(friend_list,columns=['Followed Accounts'])\n",
    "    df.to_excel(\"twitter_followed.xlsx\")\n",
    "    return df\n",
    "\n",
    "df1 = update_followers(api)"
   ]
  },
  {
   "cell_type": "code",
   "execution_count": 41,
   "id": "advance-harassment",
   "metadata": {},
   "outputs": [],
   "source": [
    "def get_followers_tweets(d):\n",
    "    my_followers = d.values.tolist()\n",
    "    dates = []\n",
    "    accs = []\n",
    "    tweets_ = []\n",
    "    i = 0\n",
    "    while i < len(my_followers):\n",
    "        f = str(''.join(my_followers[i]))\n",
    "        tweets = api.user_timeline(screen_name= f, \n",
    "                           # 200 is the maximum allowed count\n",
    "                           count=20,\n",
    "                           include_rts = False,\n",
    "                           # Necessary to keep full_text \n",
    "                           # otherwise only the first 140 words are extracted\n",
    "                           tweet_mode = 'extended'\n",
    "                           )\n",
    "        for info in tweets:\n",
    "             dates.append(info.created_at)\n",
    "             accs.append(f)\n",
    "             tweets_.append(info.full_text)\n",
    "        i = i + 1\n",
    "                \n",
    "    df_final = pd.DataFrame(columns = ['Date/Time', 'Account','Tweet'])\n",
    "    df_final['Date/Time'] = dates\n",
    "    df_final['Account'] = accs\n",
    "    df_final['Tweet'] = tweets_\n",
    "    return df_final\n",
    "\n",
    "#df_tweets = pd.read_excel(\"followers_tweets.xlsx\")\n",
    "df_new = get_followers_tweets(df1)\n",
    "#df_result = df_tweets.append(df_new)\n",
    "df_new.to_excel(\"followers_tweets.xlsx\")"
   ]
  },
  {
   "cell_type": "code",
   "execution_count": null,
   "id": "objective-following",
   "metadata": {},
   "outputs": [],
   "source": []
  }
 ],
 "metadata": {
  "kernelspec": {
   "display_name": "Python 3",
   "language": "python",
   "name": "python3"
  },
  "language_info": {
   "codemirror_mode": {
    "name": "ipython",
    "version": 3
   },
   "file_extension": ".py",
   "mimetype": "text/x-python",
   "name": "python",
   "nbconvert_exporter": "python",
   "pygments_lexer": "ipython3",
   "version": "3.7.4"
  }
 },
 "nbformat": 4,
 "nbformat_minor": 5
}
